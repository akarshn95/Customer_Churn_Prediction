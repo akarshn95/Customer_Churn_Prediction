{
 "cells": [
  {
   "cell_type": "markdown",
   "metadata": {
    "papermill": {
     "duration": 0.044846,
     "end_time": "2020-11-21T18:49:08.719024",
     "exception": false,
     "start_time": "2020-11-21T18:49:08.674178",
     "status": "completed"
    },
    "tags": []
   },
   "source": [
    "# Kaggle Dataset - Telecom Churn Prediction\n",
    "\n",
    "It contains information on customers of a telecommunication company and whether they left the company or not. In this project, we will see which types of customers are most likely to leave the company using classification."
   ]
  },
  {
   "cell_type": "markdown",
   "metadata": {
    "papermill": {
     "duration": 0.047033,
     "end_time": "2020-11-21T18:49:08.810765",
     "exception": false,
     "start_time": "2020-11-21T18:49:08.763732",
     "status": "completed"
    },
    "tags": []
   },
   "source": [
    "## Import packages and data"
   ]
  },
  {
   "cell_type": "code",
   "execution_count": 2,
   "metadata": {
    "_cell_guid": "b1076dfc-b9ad-4769-8c92-a6c4dae69d19",
    "_uuid": "8f2839f25d086af736a60e9eeb907d3b93b6e0e5",
    "execution": {
     "iopub.execute_input": "2020-11-21T18:49:08.927724Z",
     "iopub.status.busy": "2020-11-21T18:49:08.926834Z",
     "iopub.status.idle": "2020-11-21T18:49:12.564540Z",
     "shell.execute_reply": "2020-11-21T18:49:12.563676Z"
    },
    "papermill": {
     "duration": 3.705897,
     "end_time": "2020-11-21T18:49:12.564693",
     "exception": false,
     "start_time": "2020-11-21T18:49:08.858796",
     "status": "completed"
    },
    "tags": []
   },
   "outputs": [],
   "source": [
    "import pandas as pd\n",
    "import numpy as np\n",
    "\n",
    "import matplotlib.pyplot as plt\n",
    "%matplotlib inline\n",
    "import seaborn as sns\n",
    "import plotly.graph_objects as pgo\n",
    "import plotly.express as px\n",
    "\n",
    "from sklearn.model_selection import train_test_split, KFold, cross_val_score\n",
    "from sklearn.utils import resample\n",
    "from sklearn.metrics import accuracy_score, roc_auc_score, confusion_matrix\n",
    "from sklearn.linear_model import LogisticRegression\n",
    "from sklearn.naive_bayes import GaussianNB\n",
    "from sklearn.neighbors import KNeighborsClassifier\n",
    "from sklearn.tree import DecisionTreeClassifier\n",
    "from sklearn.ensemble import RandomForestClassifier, GradientBoostingClassifier\n",
    "from xgboost import XGBClassifier\n",
    "\n",
    "# Import data\n",
    "df = pd.read_csv('telecom_churn.csv')"
   ]
  },
  {
   "cell_type": "markdown",
   "metadata": {},
   "source": [
    "## Data Exploration"
   ]
  },
  {
   "cell_type": "code",
   "execution_count": 3,
   "metadata": {
    "_cell_guid": "79c7e3d0-c299-4dcb-8224-4455121ee9b0",
    "_uuid": "d629ff2d2480ee46fbb7e2d37f6b5fab8052498a",
    "execution": {
     "iopub.execute_input": "2020-11-21T18:49:12.765220Z",
     "iopub.status.busy": "2020-11-21T18:49:12.760032Z",
     "iopub.status.idle": "2020-11-21T18:49:12.778715Z",
     "shell.execute_reply": "2020-11-21T18:49:12.779270Z"
    },
    "papermill": {
     "duration": 0.082383,
     "end_time": "2020-11-21T18:49:12.779463",
     "exception": false,
     "start_time": "2020-11-21T18:49:12.697080",
     "status": "completed"
    },
    "tags": []
   },
   "outputs": [
    {
     "data": {
      "text/html": [
       "<div>\n",
       "<style scoped>\n",
       "    .dataframe tbody tr th:only-of-type {\n",
       "        vertical-align: middle;\n",
       "    }\n",
       "\n",
       "    .dataframe tbody tr th {\n",
       "        vertical-align: top;\n",
       "    }\n",
       "\n",
       "    .dataframe thead th {\n",
       "        text-align: right;\n",
       "    }\n",
       "</style>\n",
       "<table border=\"1\" class=\"dataframe\">\n",
       "  <thead>\n",
       "    <tr style=\"text-align: right;\">\n",
       "      <th></th>\n",
       "      <th>Churn</th>\n",
       "      <th>AccountWeeks</th>\n",
       "      <th>ContractRenewal</th>\n",
       "      <th>DataPlan</th>\n",
       "      <th>DataUsage</th>\n",
       "      <th>CustServCalls</th>\n",
       "      <th>DayMins</th>\n",
       "      <th>DayCalls</th>\n",
       "      <th>MonthlyCharge</th>\n",
       "      <th>OverageFee</th>\n",
       "      <th>RoamMins</th>\n",
       "    </tr>\n",
       "  </thead>\n",
       "  <tbody>\n",
       "    <tr>\n",
       "      <th>0</th>\n",
       "      <td>0</td>\n",
       "      <td>128</td>\n",
       "      <td>1</td>\n",
       "      <td>1</td>\n",
       "      <td>2.7</td>\n",
       "      <td>1</td>\n",
       "      <td>265.1</td>\n",
       "      <td>110</td>\n",
       "      <td>89.0</td>\n",
       "      <td>9.87</td>\n",
       "      <td>10.0</td>\n",
       "    </tr>\n",
       "    <tr>\n",
       "      <th>1</th>\n",
       "      <td>0</td>\n",
       "      <td>107</td>\n",
       "      <td>1</td>\n",
       "      <td>1</td>\n",
       "      <td>3.7</td>\n",
       "      <td>1</td>\n",
       "      <td>161.6</td>\n",
       "      <td>123</td>\n",
       "      <td>82.0</td>\n",
       "      <td>9.78</td>\n",
       "      <td>13.7</td>\n",
       "    </tr>\n",
       "    <tr>\n",
       "      <th>2</th>\n",
       "      <td>0</td>\n",
       "      <td>137</td>\n",
       "      <td>1</td>\n",
       "      <td>0</td>\n",
       "      <td>0.0</td>\n",
       "      <td>0</td>\n",
       "      <td>243.4</td>\n",
       "      <td>114</td>\n",
       "      <td>52.0</td>\n",
       "      <td>6.06</td>\n",
       "      <td>12.2</td>\n",
       "    </tr>\n",
       "    <tr>\n",
       "      <th>3</th>\n",
       "      <td>0</td>\n",
       "      <td>84</td>\n",
       "      <td>0</td>\n",
       "      <td>0</td>\n",
       "      <td>0.0</td>\n",
       "      <td>2</td>\n",
       "      <td>299.4</td>\n",
       "      <td>71</td>\n",
       "      <td>57.0</td>\n",
       "      <td>3.10</td>\n",
       "      <td>6.6</td>\n",
       "    </tr>\n",
       "    <tr>\n",
       "      <th>4</th>\n",
       "      <td>0</td>\n",
       "      <td>75</td>\n",
       "      <td>0</td>\n",
       "      <td>0</td>\n",
       "      <td>0.0</td>\n",
       "      <td>3</td>\n",
       "      <td>166.7</td>\n",
       "      <td>113</td>\n",
       "      <td>41.0</td>\n",
       "      <td>7.42</td>\n",
       "      <td>10.1</td>\n",
       "    </tr>\n",
       "  </tbody>\n",
       "</table>\n",
       "</div>"
      ],
      "text/plain": [
       "   Churn  AccountWeeks  ContractRenewal  DataPlan  DataUsage  CustServCalls  \\\n",
       "0      0           128                1         1        2.7              1   \n",
       "1      0           107                1         1        3.7              1   \n",
       "2      0           137                1         0        0.0              0   \n",
       "3      0            84                0         0        0.0              2   \n",
       "4      0            75                0         0        0.0              3   \n",
       "\n",
       "   DayMins  DayCalls  MonthlyCharge  OverageFee  RoamMins  \n",
       "0    265.1       110           89.0        9.87      10.0  \n",
       "1    161.6       123           82.0        9.78      13.7  \n",
       "2    243.4       114           52.0        6.06      12.2  \n",
       "3    299.4        71           57.0        3.10       6.6  \n",
       "4    166.7       113           41.0        7.42      10.1  "
      ]
     },
     "execution_count": 3,
     "metadata": {},
     "output_type": "execute_result"
    }
   ],
   "source": [
    "df.head()"
   ]
  },
  {
   "cell_type": "code",
   "execution_count": 4,
   "metadata": {
    "execution": {
     "iopub.execute_input": "2020-11-21T18:49:12.968430Z",
     "iopub.status.busy": "2020-11-21T18:49:12.967388Z",
     "iopub.status.idle": "2020-11-21T18:49:12.973106Z",
     "shell.execute_reply": "2020-11-21T18:49:12.972249Z"
    },
    "papermill": {
     "duration": 0.056663,
     "end_time": "2020-11-21T18:49:12.973257",
     "exception": false,
     "start_time": "2020-11-21T18:49:12.916594",
     "status": "completed"
    },
    "tags": []
   },
   "outputs": [
    {
     "data": {
      "text/plain": [
       "(3333, 11)"
      ]
     },
     "execution_count": 4,
     "metadata": {},
     "output_type": "execute_result"
    }
   ],
   "source": [
    "df.shape"
   ]
  },
  {
   "cell_type": "markdown",
   "metadata": {
    "papermill": {
     "duration": 0.047933,
     "end_time": "2020-11-21T18:49:13.071945",
     "exception": false,
     "start_time": "2020-11-21T18:49:13.024012",
     "status": "completed"
    },
    "tags": []
   },
   "source": [
    "\n",
    "\n",
    "The following table contains all variables with their description, data-type and the number of missing values. "
   ]
  },
  {
   "cell_type": "code",
   "execution_count": 4,
   "metadata": {
    "execution": {
     "iopub.execute_input": "2020-11-21T18:49:13.174902Z",
     "iopub.status.busy": "2020-11-21T18:49:13.174068Z",
     "iopub.status.idle": "2020-11-21T18:49:13.191540Z",
     "shell.execute_reply": "2020-11-21T18:49:13.190770Z"
    },
    "papermill": {
     "duration": 0.072416,
     "end_time": "2020-11-21T18:49:13.191705",
     "exception": false,
     "start_time": "2020-11-21T18:49:13.119289",
     "status": "completed"
    },
    "tags": []
   },
   "outputs": [
    {
     "data": {
      "text/html": [
       "<div>\n",
       "<style scoped>\n",
       "    .dataframe tbody tr th:only-of-type {\n",
       "        vertical-align: middle;\n",
       "    }\n",
       "\n",
       "    .dataframe tbody tr th {\n",
       "        vertical-align: top;\n",
       "    }\n",
       "\n",
       "    .dataframe thead th {\n",
       "        text-align: right;\n",
       "    }\n",
       "</style>\n",
       "<table border=\"1\" class=\"dataframe\">\n",
       "  <thead>\n",
       "    <tr style=\"text-align: right;\">\n",
       "      <th></th>\n",
       "      <th>Description</th>\n",
       "      <th>Datatype</th>\n",
       "      <th># of NaNs</th>\n",
       "    </tr>\n",
       "  </thead>\n",
       "  <tbody>\n",
       "    <tr>\n",
       "      <th>Churn</th>\n",
       "      <td>1 if customer cancelled service, 0 if not</td>\n",
       "      <td>int64</td>\n",
       "      <td>0</td>\n",
       "    </tr>\n",
       "    <tr>\n",
       "      <th>AccountWeeks</th>\n",
       "      <td>number of weeks customer has had active account</td>\n",
       "      <td>int64</td>\n",
       "      <td>0</td>\n",
       "    </tr>\n",
       "    <tr>\n",
       "      <th>ContractRenewal</th>\n",
       "      <td>1 if customer recently renewed contract, 0 if not</td>\n",
       "      <td>int64</td>\n",
       "      <td>0</td>\n",
       "    </tr>\n",
       "    <tr>\n",
       "      <th>DataPlan</th>\n",
       "      <td>1 if customer has data plan, 0 if not</td>\n",
       "      <td>int64</td>\n",
       "      <td>0</td>\n",
       "    </tr>\n",
       "    <tr>\n",
       "      <th>DataUsage</th>\n",
       "      <td>gigabytes of monthly data usage</td>\n",
       "      <td>float64</td>\n",
       "      <td>0</td>\n",
       "    </tr>\n",
       "    <tr>\n",
       "      <th>CustServCalls</th>\n",
       "      <td>number of calls into customer service</td>\n",
       "      <td>int64</td>\n",
       "      <td>0</td>\n",
       "    </tr>\n",
       "    <tr>\n",
       "      <th>DayMins</th>\n",
       "      <td>average daytime minutes per month</td>\n",
       "      <td>float64</td>\n",
       "      <td>0</td>\n",
       "    </tr>\n",
       "    <tr>\n",
       "      <th>DayCalls</th>\n",
       "      <td>average number of daytime calls</td>\n",
       "      <td>int64</td>\n",
       "      <td>0</td>\n",
       "    </tr>\n",
       "    <tr>\n",
       "      <th>MonthlyCharge</th>\n",
       "      <td>average monthly bill</td>\n",
       "      <td>float64</td>\n",
       "      <td>0</td>\n",
       "    </tr>\n",
       "    <tr>\n",
       "      <th>OverageFee</th>\n",
       "      <td>largest overage fee in last 12 months</td>\n",
       "      <td>float64</td>\n",
       "      <td>0</td>\n",
       "    </tr>\n",
       "    <tr>\n",
       "      <th>RoamMins</th>\n",
       "      <td>average number of roaming minutes</td>\n",
       "      <td>float64</td>\n",
       "      <td>0</td>\n",
       "    </tr>\n",
       "  </tbody>\n",
       "</table>\n",
       "</div>"
      ],
      "text/plain": [
       "                                                       Description Datatype  \\\n",
       "Churn                    1 if customer cancelled service, 0 if not    int64   \n",
       "AccountWeeks       number of weeks customer has had active account    int64   \n",
       "ContractRenewal  1 if customer recently renewed contract, 0 if not    int64   \n",
       "DataPlan                     1 if customer has data plan, 0 if not    int64   \n",
       "DataUsage                          gigabytes of monthly data usage  float64   \n",
       "CustServCalls                number of calls into customer service    int64   \n",
       "DayMins                          average daytime minutes per month  float64   \n",
       "DayCalls                           average number of daytime calls    int64   \n",
       "MonthlyCharge                                 average monthly bill  float64   \n",
       "OverageFee                   largest overage fee in last 12 months  float64   \n",
       "RoamMins                         average number of roaming minutes  float64   \n",
       "\n",
       "                 # of NaNs  \n",
       "Churn                    0  \n",
       "AccountWeeks             0  \n",
       "ContractRenewal          0  \n",
       "DataPlan                 0  \n",
       "DataUsage                0  \n",
       "CustServCalls            0  \n",
       "DayMins                  0  \n",
       "DayCalls                 0  \n",
       "MonthlyCharge            0  \n",
       "OverageFee               0  \n",
       "RoamMins                 0  "
      ]
     },
     "execution_count": 4,
     "metadata": {},
     "output_type": "execute_result"
    }
   ],
   "source": [
    "var = {'Description': ['1 if customer cancelled service, 0 if not', 'number of weeks customer has had active account', '1 if customer recently renewed contract, 0 if not', '1 if customer has data plan, 0 if not', 'gigabytes of monthly data usage', 'number of calls into customer service', 'average daytime minutes per month', 'average number of daytime calls', 'average monthly bill', 'largest overage fee in last 12 months', 'average number of roaming minutes'],\n",
    "       'Datatype': list(df.dtypes),\n",
    "       '# of NaNs': list(df.isna().sum())}\n",
    "\n",
    "df_var = pd.DataFrame(var, columns = ['Description', 'Datatype', '# of NaNs'], index = list(df.columns))\n",
    "df_var"
   ]
  },
  {
   "cell_type": "markdown",
   "metadata": {
    "papermill": {
     "duration": 0.04542,
     "end_time": "2020-11-21T18:49:13.385412",
     "exception": false,
     "start_time": "2020-11-21T18:49:13.339992",
     "status": "completed"
    },
    "tags": []
   },
   "source": [
    "# Exploratory Data Analysis\n",
    "\n",
    "Now we will see what insights and relationships can be discovered through analysing the variables. We will start with our target feature 'Churn'. "
   ]
  },
  {
   "cell_type": "markdown",
   "metadata": {
    "papermill": {
     "duration": 0.046515,
     "end_time": "2020-11-21T18:49:13.477963",
     "exception": false,
     "start_time": "2020-11-21T18:49:13.431448",
     "status": "completed"
    },
    "tags": []
   },
   "source": [
    "## Target variable: 'Churn'\n",
    "\n",
    "**How high is the proprotion of customers which cancelled the service?**\n",
    "\n",
    "As described in the table above, this variable is '1' if the customer cancelled the service and '0' if not. "
   ]
  },
  {
   "cell_type": "code",
   "execution_count": 6,
   "metadata": {
    "execution": {
     "iopub.execute_input": "2020-11-21T18:49:13.585861Z",
     "iopub.status.busy": "2020-11-21T18:49:13.584765Z",
     "iopub.status.idle": "2020-11-21T18:49:13.765070Z",
     "shell.execute_reply": "2020-11-21T18:49:13.764269Z"
    },
    "papermill": {
     "duration": 0.241422,
     "end_time": "2020-11-21T18:49:13.765208",
     "exception": false,
     "start_time": "2020-11-21T18:49:13.523786",
     "status": "completed"
    },
    "tags": []
   },
   "outputs": [
    {
     "data": {
      "application/vnd.plotly.v1+json": {
       "config": {
        "plotlyServerURL": "https://plot.ly"
       },
       "data": [
        {
         "hole": 0.6,
         "labels": [
          "cancelled",
          "not cancelled"
         ],
         "marker": {
          "colors": [
           "coral",
           "cornflowerblue"
          ]
         },
         "type": "pie",
         "values": [
          483,
          2850
         ]
        }
       ],
       "layout": {
        "template": {
         "data": {
          "bar": [
           {
            "error_x": {
             "color": "#2a3f5f"
            },
            "error_y": {
             "color": "#2a3f5f"
            },
            "marker": {
             "line": {
              "color": "#E5ECF6",
              "width": 0.5
             }
            },
            "type": "bar"
           }
          ],
          "barpolar": [
           {
            "marker": {
             "line": {
              "color": "#E5ECF6",
              "width": 0.5
             }
            },
            "type": "barpolar"
           }
          ],
          "carpet": [
           {
            "aaxis": {
             "endlinecolor": "#2a3f5f",
             "gridcolor": "white",
             "linecolor": "white",
             "minorgridcolor": "white",
             "startlinecolor": "#2a3f5f"
            },
            "baxis": {
             "endlinecolor": "#2a3f5f",
             "gridcolor": "white",
             "linecolor": "white",
             "minorgridcolor": "white",
             "startlinecolor": "#2a3f5f"
            },
            "type": "carpet"
           }
          ],
          "choropleth": [
           {
            "colorbar": {
             "outlinewidth": 0,
             "ticks": ""
            },
            "type": "choropleth"
           }
          ],
          "contour": [
           {
            "colorbar": {
             "outlinewidth": 0,
             "ticks": ""
            },
            "colorscale": [
             [
              0,
              "#0d0887"
             ],
             [
              0.1111111111111111,
              "#46039f"
             ],
             [
              0.2222222222222222,
              "#7201a8"
             ],
             [
              0.3333333333333333,
              "#9c179e"
             ],
             [
              0.4444444444444444,
              "#bd3786"
             ],
             [
              0.5555555555555556,
              "#d8576b"
             ],
             [
              0.6666666666666666,
              "#ed7953"
             ],
             [
              0.7777777777777778,
              "#fb9f3a"
             ],
             [
              0.8888888888888888,
              "#fdca26"
             ],
             [
              1,
              "#f0f921"
             ]
            ],
            "type": "contour"
           }
          ],
          "contourcarpet": [
           {
            "colorbar": {
             "outlinewidth": 0,
             "ticks": ""
            },
            "type": "contourcarpet"
           }
          ],
          "heatmap": [
           {
            "colorbar": {
             "outlinewidth": 0,
             "ticks": ""
            },
            "colorscale": [
             [
              0,
              "#0d0887"
             ],
             [
              0.1111111111111111,
              "#46039f"
             ],
             [
              0.2222222222222222,
              "#7201a8"
             ],
             [
              0.3333333333333333,
              "#9c179e"
             ],
             [
              0.4444444444444444,
              "#bd3786"
             ],
             [
              0.5555555555555556,
              "#d8576b"
             ],
             [
              0.6666666666666666,
              "#ed7953"
             ],
             [
              0.7777777777777778,
              "#fb9f3a"
             ],
             [
              0.8888888888888888,
              "#fdca26"
             ],
             [
              1,
              "#f0f921"
             ]
            ],
            "type": "heatmap"
           }
          ],
          "heatmapgl": [
           {
            "colorbar": {
             "outlinewidth": 0,
             "ticks": ""
            },
            "colorscale": [
             [
              0,
              "#0d0887"
             ],
             [
              0.1111111111111111,
              "#46039f"
             ],
             [
              0.2222222222222222,
              "#7201a8"
             ],
             [
              0.3333333333333333,
              "#9c179e"
             ],
             [
              0.4444444444444444,
              "#bd3786"
             ],
             [
              0.5555555555555556,
              "#d8576b"
             ],
             [
              0.6666666666666666,
              "#ed7953"
             ],
             [
              0.7777777777777778,
              "#fb9f3a"
             ],
             [
              0.8888888888888888,
              "#fdca26"
             ],
             [
              1,
              "#f0f921"
             ]
            ],
            "type": "heatmapgl"
           }
          ],
          "histogram": [
           {
            "marker": {
             "colorbar": {
              "outlinewidth": 0,
              "ticks": ""
             }
            },
            "type": "histogram"
           }
          ],
          "histogram2d": [
           {
            "colorbar": {
             "outlinewidth": 0,
             "ticks": ""
            },
            "colorscale": [
             [
              0,
              "#0d0887"
             ],
             [
              0.1111111111111111,
              "#46039f"
             ],
             [
              0.2222222222222222,
              "#7201a8"
             ],
             [
              0.3333333333333333,
              "#9c179e"
             ],
             [
              0.4444444444444444,
              "#bd3786"
             ],
             [
              0.5555555555555556,
              "#d8576b"
             ],
             [
              0.6666666666666666,
              "#ed7953"
             ],
             [
              0.7777777777777778,
              "#fb9f3a"
             ],
             [
              0.8888888888888888,
              "#fdca26"
             ],
             [
              1,
              "#f0f921"
             ]
            ],
            "type": "histogram2d"
           }
          ],
          "histogram2dcontour": [
           {
            "colorbar": {
             "outlinewidth": 0,
             "ticks": ""
            },
            "colorscale": [
             [
              0,
              "#0d0887"
             ],
             [
              0.1111111111111111,
              "#46039f"
             ],
             [
              0.2222222222222222,
              "#7201a8"
             ],
             [
              0.3333333333333333,
              "#9c179e"
             ],
             [
              0.4444444444444444,
              "#bd3786"
             ],
             [
              0.5555555555555556,
              "#d8576b"
             ],
             [
              0.6666666666666666,
              "#ed7953"
             ],
             [
              0.7777777777777778,
              "#fb9f3a"
             ],
             [
              0.8888888888888888,
              "#fdca26"
             ],
             [
              1,
              "#f0f921"
             ]
            ],
            "type": "histogram2dcontour"
           }
          ],
          "mesh3d": [
           {
            "colorbar": {
             "outlinewidth": 0,
             "ticks": ""
            },
            "type": "mesh3d"
           }
          ],
          "parcoords": [
           {
            "line": {
             "colorbar": {
              "outlinewidth": 0,
              "ticks": ""
             }
            },
            "type": "parcoords"
           }
          ],
          "pie": [
           {
            "automargin": true,
            "type": "pie"
           }
          ],
          "scatter": [
           {
            "marker": {
             "colorbar": {
              "outlinewidth": 0,
              "ticks": ""
             }
            },
            "type": "scatter"
           }
          ],
          "scatter3d": [
           {
            "line": {
             "colorbar": {
              "outlinewidth": 0,
              "ticks": ""
             }
            },
            "marker": {
             "colorbar": {
              "outlinewidth": 0,
              "ticks": ""
             }
            },
            "type": "scatter3d"
           }
          ],
          "scattercarpet": [
           {
            "marker": {
             "colorbar": {
              "outlinewidth": 0,
              "ticks": ""
             }
            },
            "type": "scattercarpet"
           }
          ],
          "scattergeo": [
           {
            "marker": {
             "colorbar": {
              "outlinewidth": 0,
              "ticks": ""
             }
            },
            "type": "scattergeo"
           }
          ],
          "scattergl": [
           {
            "marker": {
             "colorbar": {
              "outlinewidth": 0,
              "ticks": ""
             }
            },
            "type": "scattergl"
           }
          ],
          "scattermapbox": [
           {
            "marker": {
             "colorbar": {
              "outlinewidth": 0,
              "ticks": ""
             }
            },
            "type": "scattermapbox"
           }
          ],
          "scatterpolar": [
           {
            "marker": {
             "colorbar": {
              "outlinewidth": 0,
              "ticks": ""
             }
            },
            "type": "scatterpolar"
           }
          ],
          "scatterpolargl": [
           {
            "marker": {
             "colorbar": {
              "outlinewidth": 0,
              "ticks": ""
             }
            },
            "type": "scatterpolargl"
           }
          ],
          "scatterternary": [
           {
            "marker": {
             "colorbar": {
              "outlinewidth": 0,
              "ticks": ""
             }
            },
            "type": "scatterternary"
           }
          ],
          "surface": [
           {
            "colorbar": {
             "outlinewidth": 0,
             "ticks": ""
            },
            "colorscale": [
             [
              0,
              "#0d0887"
             ],
             [
              0.1111111111111111,
              "#46039f"
             ],
             [
              0.2222222222222222,
              "#7201a8"
             ],
             [
              0.3333333333333333,
              "#9c179e"
             ],
             [
              0.4444444444444444,
              "#bd3786"
             ],
             [
              0.5555555555555556,
              "#d8576b"
             ],
             [
              0.6666666666666666,
              "#ed7953"
             ],
             [
              0.7777777777777778,
              "#fb9f3a"
             ],
             [
              0.8888888888888888,
              "#fdca26"
             ],
             [
              1,
              "#f0f921"
             ]
            ],
            "type": "surface"
           }
          ],
          "table": [
           {
            "cells": {
             "fill": {
              "color": "#EBF0F8"
             },
             "line": {
              "color": "white"
             }
            },
            "header": {
             "fill": {
              "color": "#C8D4E3"
             },
             "line": {
              "color": "white"
             }
            },
            "type": "table"
           }
          ]
         },
         "layout": {
          "annotationdefaults": {
           "arrowcolor": "#2a3f5f",
           "arrowhead": 0,
           "arrowwidth": 1
          },
          "coloraxis": {
           "colorbar": {
            "outlinewidth": 0,
            "ticks": ""
           }
          },
          "colorscale": {
           "diverging": [
            [
             0,
             "#8e0152"
            ],
            [
             0.1,
             "#c51b7d"
            ],
            [
             0.2,
             "#de77ae"
            ],
            [
             0.3,
             "#f1b6da"
            ],
            [
             0.4,
             "#fde0ef"
            ],
            [
             0.5,
             "#f7f7f7"
            ],
            [
             0.6,
             "#e6f5d0"
            ],
            [
             0.7,
             "#b8e186"
            ],
            [
             0.8,
             "#7fbc41"
            ],
            [
             0.9,
             "#4d9221"
            ],
            [
             1,
             "#276419"
            ]
           ],
           "sequential": [
            [
             0,
             "#0d0887"
            ],
            [
             0.1111111111111111,
             "#46039f"
            ],
            [
             0.2222222222222222,
             "#7201a8"
            ],
            [
             0.3333333333333333,
             "#9c179e"
            ],
            [
             0.4444444444444444,
             "#bd3786"
            ],
            [
             0.5555555555555556,
             "#d8576b"
            ],
            [
             0.6666666666666666,
             "#ed7953"
            ],
            [
             0.7777777777777778,
             "#fb9f3a"
            ],
            [
             0.8888888888888888,
             "#fdca26"
            ],
            [
             1,
             "#f0f921"
            ]
           ],
           "sequentialminus": [
            [
             0,
             "#0d0887"
            ],
            [
             0.1111111111111111,
             "#46039f"
            ],
            [
             0.2222222222222222,
             "#7201a8"
            ],
            [
             0.3333333333333333,
             "#9c179e"
            ],
            [
             0.4444444444444444,
             "#bd3786"
            ],
            [
             0.5555555555555556,
             "#d8576b"
            ],
            [
             0.6666666666666666,
             "#ed7953"
            ],
            [
             0.7777777777777778,
             "#fb9f3a"
            ],
            [
             0.8888888888888888,
             "#fdca26"
            ],
            [
             1,
             "#f0f921"
            ]
           ]
          },
          "colorway": [
           "#636efa",
           "#EF553B",
           "#00cc96",
           "#ab63fa",
           "#FFA15A",
           "#19d3f3",
           "#FF6692",
           "#B6E880",
           "#FF97FF",
           "#FECB52"
          ],
          "font": {
           "color": "#2a3f5f"
          },
          "geo": {
           "bgcolor": "white",
           "lakecolor": "white",
           "landcolor": "#E5ECF6",
           "showlakes": true,
           "showland": true,
           "subunitcolor": "white"
          },
          "hoverlabel": {
           "align": "left"
          },
          "hovermode": "closest",
          "mapbox": {
           "style": "light"
          },
          "paper_bgcolor": "white",
          "plot_bgcolor": "#E5ECF6",
          "polar": {
           "angularaxis": {
            "gridcolor": "white",
            "linecolor": "white",
            "ticks": ""
           },
           "bgcolor": "#E5ECF6",
           "radialaxis": {
            "gridcolor": "white",
            "linecolor": "white",
            "ticks": ""
           }
          },
          "scene": {
           "xaxis": {
            "backgroundcolor": "#E5ECF6",
            "gridcolor": "white",
            "gridwidth": 2,
            "linecolor": "white",
            "showbackground": true,
            "ticks": "",
            "zerolinecolor": "white"
           },
           "yaxis": {
            "backgroundcolor": "#E5ECF6",
            "gridcolor": "white",
            "gridwidth": 2,
            "linecolor": "white",
            "showbackground": true,
            "ticks": "",
            "zerolinecolor": "white"
           },
           "zaxis": {
            "backgroundcolor": "#E5ECF6",
            "gridcolor": "white",
            "gridwidth": 2,
            "linecolor": "white",
            "showbackground": true,
            "ticks": "",
            "zerolinecolor": "white"
           }
          },
          "shapedefaults": {
           "line": {
            "color": "#2a3f5f"
           }
          },
          "ternary": {
           "aaxis": {
            "gridcolor": "white",
            "linecolor": "white",
            "ticks": ""
           },
           "baxis": {
            "gridcolor": "white",
            "linecolor": "white",
            "ticks": ""
           },
           "bgcolor": "#E5ECF6",
           "caxis": {
            "gridcolor": "white",
            "linecolor": "white",
            "ticks": ""
           }
          },
          "title": {
           "x": 0.05
          },
          "xaxis": {
           "automargin": true,
           "gridcolor": "white",
           "linecolor": "white",
           "ticks": "",
           "title": {
            "standoff": 15
           },
           "zerolinecolor": "white",
           "zerolinewidth": 2
          },
          "yaxis": {
           "automargin": true,
           "gridcolor": "white",
           "linecolor": "white",
           "ticks": "",
           "title": {
            "standoff": 15
           },
           "zerolinecolor": "white",
           "zerolinewidth": 2
          }
         }
        }
       }
      },
      "text/html": [
       "<div>\n",
       "        \n",
       "        \n",
       "            <div id=\"80d99398-857a-4789-83b4-1cb556eb93e1\" class=\"plotly-graph-div\" style=\"height:525px; width:100%;\"></div>\n",
       "            <script type=\"text/javascript\">\n",
       "                require([\"plotly\"], function(Plotly) {\n",
       "                    window.PLOTLYENV=window.PLOTLYENV || {};\n",
       "                    \n",
       "                if (document.getElementById(\"80d99398-857a-4789-83b4-1cb556eb93e1\")) {\n",
       "                    Plotly.newPlot(\n",
       "                        '80d99398-857a-4789-83b4-1cb556eb93e1',\n",
       "                        [{\"hole\": 0.6, \"labels\": [\"cancelled\", \"not cancelled\"], \"marker\": {\"colors\": [\"coral\", \"cornflowerblue\"]}, \"type\": \"pie\", \"values\": [483, 2850]}],\n",
       "                        {\"template\": {\"data\": {\"bar\": [{\"error_x\": {\"color\": \"#2a3f5f\"}, \"error_y\": {\"color\": \"#2a3f5f\"}, \"marker\": {\"line\": {\"color\": \"#E5ECF6\", \"width\": 0.5}}, \"type\": \"bar\"}], \"barpolar\": [{\"marker\": {\"line\": {\"color\": \"#E5ECF6\", \"width\": 0.5}}, \"type\": \"barpolar\"}], \"carpet\": [{\"aaxis\": {\"endlinecolor\": \"#2a3f5f\", \"gridcolor\": \"white\", \"linecolor\": \"white\", \"minorgridcolor\": \"white\", \"startlinecolor\": \"#2a3f5f\"}, \"baxis\": {\"endlinecolor\": \"#2a3f5f\", \"gridcolor\": \"white\", \"linecolor\": \"white\", \"minorgridcolor\": \"white\", \"startlinecolor\": \"#2a3f5f\"}, \"type\": \"carpet\"}], \"choropleth\": [{\"colorbar\": {\"outlinewidth\": 0, \"ticks\": \"\"}, \"type\": \"choropleth\"}], \"contour\": [{\"colorbar\": {\"outlinewidth\": 0, \"ticks\": \"\"}, \"colorscale\": [[0.0, \"#0d0887\"], [0.1111111111111111, \"#46039f\"], [0.2222222222222222, \"#7201a8\"], [0.3333333333333333, \"#9c179e\"], [0.4444444444444444, \"#bd3786\"], [0.5555555555555556, \"#d8576b\"], [0.6666666666666666, \"#ed7953\"], [0.7777777777777778, \"#fb9f3a\"], [0.8888888888888888, \"#fdca26\"], [1.0, \"#f0f921\"]], \"type\": \"contour\"}], \"contourcarpet\": [{\"colorbar\": {\"outlinewidth\": 0, \"ticks\": \"\"}, \"type\": \"contourcarpet\"}], \"heatmap\": [{\"colorbar\": {\"outlinewidth\": 0, \"ticks\": \"\"}, \"colorscale\": [[0.0, \"#0d0887\"], [0.1111111111111111, \"#46039f\"], [0.2222222222222222, \"#7201a8\"], [0.3333333333333333, \"#9c179e\"], [0.4444444444444444, \"#bd3786\"], [0.5555555555555556, \"#d8576b\"], [0.6666666666666666, \"#ed7953\"], [0.7777777777777778, \"#fb9f3a\"], [0.8888888888888888, \"#fdca26\"], [1.0, \"#f0f921\"]], \"type\": \"heatmap\"}], \"heatmapgl\": [{\"colorbar\": {\"outlinewidth\": 0, \"ticks\": \"\"}, \"colorscale\": [[0.0, \"#0d0887\"], [0.1111111111111111, \"#46039f\"], [0.2222222222222222, \"#7201a8\"], [0.3333333333333333, \"#9c179e\"], [0.4444444444444444, \"#bd3786\"], [0.5555555555555556, \"#d8576b\"], [0.6666666666666666, \"#ed7953\"], [0.7777777777777778, \"#fb9f3a\"], [0.8888888888888888, \"#fdca26\"], [1.0, \"#f0f921\"]], \"type\": \"heatmapgl\"}], \"histogram\": [{\"marker\": {\"colorbar\": {\"outlinewidth\": 0, \"ticks\": \"\"}}, \"type\": \"histogram\"}], \"histogram2d\": [{\"colorbar\": {\"outlinewidth\": 0, \"ticks\": \"\"}, \"colorscale\": [[0.0, \"#0d0887\"], [0.1111111111111111, \"#46039f\"], [0.2222222222222222, \"#7201a8\"], [0.3333333333333333, \"#9c179e\"], [0.4444444444444444, \"#bd3786\"], [0.5555555555555556, \"#d8576b\"], [0.6666666666666666, \"#ed7953\"], [0.7777777777777778, \"#fb9f3a\"], [0.8888888888888888, \"#fdca26\"], [1.0, \"#f0f921\"]], \"type\": \"histogram2d\"}], \"histogram2dcontour\": [{\"colorbar\": {\"outlinewidth\": 0, \"ticks\": \"\"}, \"colorscale\": [[0.0, \"#0d0887\"], [0.1111111111111111, \"#46039f\"], [0.2222222222222222, \"#7201a8\"], [0.3333333333333333, \"#9c179e\"], [0.4444444444444444, \"#bd3786\"], [0.5555555555555556, \"#d8576b\"], [0.6666666666666666, \"#ed7953\"], [0.7777777777777778, \"#fb9f3a\"], [0.8888888888888888, \"#fdca26\"], [1.0, \"#f0f921\"]], \"type\": \"histogram2dcontour\"}], \"mesh3d\": [{\"colorbar\": {\"outlinewidth\": 0, \"ticks\": \"\"}, \"type\": \"mesh3d\"}], \"parcoords\": [{\"line\": {\"colorbar\": {\"outlinewidth\": 0, \"ticks\": \"\"}}, \"type\": \"parcoords\"}], \"pie\": [{\"automargin\": true, \"type\": \"pie\"}], \"scatter\": [{\"marker\": {\"colorbar\": {\"outlinewidth\": 0, \"ticks\": \"\"}}, \"type\": \"scatter\"}], \"scatter3d\": [{\"line\": {\"colorbar\": {\"outlinewidth\": 0, \"ticks\": \"\"}}, \"marker\": {\"colorbar\": {\"outlinewidth\": 0, \"ticks\": \"\"}}, \"type\": \"scatter3d\"}], \"scattercarpet\": [{\"marker\": {\"colorbar\": {\"outlinewidth\": 0, \"ticks\": \"\"}}, \"type\": \"scattercarpet\"}], \"scattergeo\": [{\"marker\": {\"colorbar\": {\"outlinewidth\": 0, \"ticks\": \"\"}}, \"type\": \"scattergeo\"}], \"scattergl\": [{\"marker\": {\"colorbar\": {\"outlinewidth\": 0, \"ticks\": \"\"}}, \"type\": \"scattergl\"}], \"scattermapbox\": [{\"marker\": {\"colorbar\": {\"outlinewidth\": 0, \"ticks\": \"\"}}, \"type\": \"scattermapbox\"}], \"scatterpolar\": [{\"marker\": {\"colorbar\": {\"outlinewidth\": 0, \"ticks\": \"\"}}, \"type\": \"scatterpolar\"}], \"scatterpolargl\": [{\"marker\": {\"colorbar\": {\"outlinewidth\": 0, \"ticks\": \"\"}}, \"type\": \"scatterpolargl\"}], \"scatterternary\": [{\"marker\": {\"colorbar\": {\"outlinewidth\": 0, \"ticks\": \"\"}}, \"type\": \"scatterternary\"}], \"surface\": [{\"colorbar\": {\"outlinewidth\": 0, \"ticks\": \"\"}, \"colorscale\": [[0.0, \"#0d0887\"], [0.1111111111111111, \"#46039f\"], [0.2222222222222222, \"#7201a8\"], [0.3333333333333333, \"#9c179e\"], [0.4444444444444444, \"#bd3786\"], [0.5555555555555556, \"#d8576b\"], [0.6666666666666666, \"#ed7953\"], [0.7777777777777778, \"#fb9f3a\"], [0.8888888888888888, \"#fdca26\"], [1.0, \"#f0f921\"]], \"type\": \"surface\"}], \"table\": [{\"cells\": {\"fill\": {\"color\": \"#EBF0F8\"}, \"line\": {\"color\": \"white\"}}, \"header\": {\"fill\": {\"color\": \"#C8D4E3\"}, \"line\": {\"color\": \"white\"}}, \"type\": \"table\"}]}, \"layout\": {\"annotationdefaults\": {\"arrowcolor\": \"#2a3f5f\", \"arrowhead\": 0, \"arrowwidth\": 1}, \"coloraxis\": {\"colorbar\": {\"outlinewidth\": 0, \"ticks\": \"\"}}, \"colorscale\": {\"diverging\": [[0, \"#8e0152\"], [0.1, \"#c51b7d\"], [0.2, \"#de77ae\"], [0.3, \"#f1b6da\"], [0.4, \"#fde0ef\"], [0.5, \"#f7f7f7\"], [0.6, \"#e6f5d0\"], [0.7, \"#b8e186\"], [0.8, \"#7fbc41\"], [0.9, \"#4d9221\"], [1, \"#276419\"]], \"sequential\": [[0.0, \"#0d0887\"], [0.1111111111111111, \"#46039f\"], [0.2222222222222222, \"#7201a8\"], [0.3333333333333333, \"#9c179e\"], [0.4444444444444444, \"#bd3786\"], [0.5555555555555556, \"#d8576b\"], [0.6666666666666666, \"#ed7953\"], [0.7777777777777778, \"#fb9f3a\"], [0.8888888888888888, \"#fdca26\"], [1.0, \"#f0f921\"]], \"sequentialminus\": [[0.0, \"#0d0887\"], [0.1111111111111111, \"#46039f\"], [0.2222222222222222, \"#7201a8\"], [0.3333333333333333, \"#9c179e\"], [0.4444444444444444, \"#bd3786\"], [0.5555555555555556, \"#d8576b\"], [0.6666666666666666, \"#ed7953\"], [0.7777777777777778, \"#fb9f3a\"], [0.8888888888888888, \"#fdca26\"], [1.0, \"#f0f921\"]]}, \"colorway\": [\"#636efa\", \"#EF553B\", \"#00cc96\", \"#ab63fa\", \"#FFA15A\", \"#19d3f3\", \"#FF6692\", \"#B6E880\", \"#FF97FF\", \"#FECB52\"], \"font\": {\"color\": \"#2a3f5f\"}, \"geo\": {\"bgcolor\": \"white\", \"lakecolor\": \"white\", \"landcolor\": \"#E5ECF6\", \"showlakes\": true, \"showland\": true, \"subunitcolor\": \"white\"}, \"hoverlabel\": {\"align\": \"left\"}, \"hovermode\": \"closest\", \"mapbox\": {\"style\": \"light\"}, \"paper_bgcolor\": \"white\", \"plot_bgcolor\": \"#E5ECF6\", \"polar\": {\"angularaxis\": {\"gridcolor\": \"white\", \"linecolor\": \"white\", \"ticks\": \"\"}, \"bgcolor\": \"#E5ECF6\", \"radialaxis\": {\"gridcolor\": \"white\", \"linecolor\": \"white\", \"ticks\": \"\"}}, \"scene\": {\"xaxis\": {\"backgroundcolor\": \"#E5ECF6\", \"gridcolor\": \"white\", \"gridwidth\": 2, \"linecolor\": \"white\", \"showbackground\": true, \"ticks\": \"\", \"zerolinecolor\": \"white\"}, \"yaxis\": {\"backgroundcolor\": \"#E5ECF6\", \"gridcolor\": \"white\", \"gridwidth\": 2, \"linecolor\": \"white\", \"showbackground\": true, \"ticks\": \"\", \"zerolinecolor\": \"white\"}, \"zaxis\": {\"backgroundcolor\": \"#E5ECF6\", \"gridcolor\": \"white\", \"gridwidth\": 2, \"linecolor\": \"white\", \"showbackground\": true, \"ticks\": \"\", \"zerolinecolor\": \"white\"}}, \"shapedefaults\": {\"line\": {\"color\": \"#2a3f5f\"}}, \"ternary\": {\"aaxis\": {\"gridcolor\": \"white\", \"linecolor\": \"white\", \"ticks\": \"\"}, \"baxis\": {\"gridcolor\": \"white\", \"linecolor\": \"white\", \"ticks\": \"\"}, \"bgcolor\": \"#E5ECF6\", \"caxis\": {\"gridcolor\": \"white\", \"linecolor\": \"white\", \"ticks\": \"\"}}, \"title\": {\"x\": 0.05}, \"xaxis\": {\"automargin\": true, \"gridcolor\": \"white\", \"linecolor\": \"white\", \"ticks\": \"\", \"title\": {\"standoff\": 15}, \"zerolinecolor\": \"white\", \"zerolinewidth\": 2}, \"yaxis\": {\"automargin\": true, \"gridcolor\": \"white\", \"linecolor\": \"white\", \"ticks\": \"\", \"title\": {\"standoff\": 15}, \"zerolinecolor\": \"white\", \"zerolinewidth\": 2}}}},\n",
       "                        {\"responsive\": true}\n",
       "                    ).then(function(){\n",
       "                            \n",
       "var gd = document.getElementById('80d99398-857a-4789-83b4-1cb556eb93e1');\n",
       "var x = new MutationObserver(function (mutations, observer) {{\n",
       "        var display = window.getComputedStyle(gd).display;\n",
       "        if (!display || display === 'none') {{\n",
       "            console.log([gd, 'removed!']);\n",
       "            Plotly.purge(gd);\n",
       "            observer.disconnect();\n",
       "        }}\n",
       "}});\n",
       "\n",
       "// Listen for the removal of the full notebook cells\n",
       "var notebookContainer = gd.closest('#notebook-container');\n",
       "if (notebookContainer) {{\n",
       "    x.observe(notebookContainer, {childList: true});\n",
       "}}\n",
       "\n",
       "// Listen for the clearing of the current output cell\n",
       "var outputEl = gd.closest('.output');\n",
       "if (outputEl) {{\n",
       "    x.observe(outputEl, {childList: true});\n",
       "}}\n",
       "\n",
       "                        })\n",
       "                };\n",
       "                });\n",
       "            </script>\n",
       "        </div>"
      ]
     },
     "metadata": {},
     "output_type": "display_data"
    }
   ],
   "source": [
    "# Create new dataframe for better labeling of plots\n",
    "df['churn'] = np.where(df['Churn'] == 1, 'cancelled', 'not cancelled')\n",
    "df['contract renewal'] = np.where(df['ContractRenewal'] == 1, 'renewed', 'not renewed')\n",
    "df['data plan'] = np.where(df['DataPlan'] == 1, 'data plan', 'no data plan')\n",
    "\n",
    "# Create pie chart\n",
    "labels = ['cancelled', 'not cancelled']\n",
    "values = [(df.Churn == 1).sum(), (df.Churn == 0).sum()]\n",
    "fig = pgo.Figure(data = [pgo.Pie(labels = labels, values = values, hole = .6, marker_colors = ['coral',                                                                                                                       \n",
    "                                                                                               'cornflowerblue'])])\n",
    "fig.show()"
   ]
  },
  {
   "cell_type": "markdown",
   "metadata": {
    "papermill": {
     "duration": 0.0492,
     "end_time": "2020-11-21T18:49:13.862720",
     "exception": false,
     "start_time": "2020-11-21T18:49:13.813520",
     "status": "completed"
    },
    "tags": []
   },
   "source": [
    "## Binary Features: 'ContractRenewal' and 'DataPlan'\n",
    "\n",
    "The feature 'ContractRenewal' tells us wether the customer recently renewed his contract (1) or not (0). The feature 'DataPlan' is 1 if the customer had a data plan and 0 else.\n",
    "\n",
    "We will see how many customers renewed their contract and how many had a data plan in this dataset. Additionaly we will use 'Churn' as a third variable in our plots to hopefully gain first insights of who is more likely to leave the company."
   ]
  },
  {
   "cell_type": "code",
   "execution_count": 7,
   "metadata": {
    "execution": {
     "iopub.execute_input": "2020-11-21T18:49:13.979851Z",
     "iopub.status.busy": "2020-11-21T18:49:13.978518Z",
     "iopub.status.idle": "2020-11-21T18:49:14.329667Z",
     "shell.execute_reply": "2020-11-21T18:49:14.328788Z"
    },
    "papermill": {
     "duration": 0.413811,
     "end_time": "2020-11-21T18:49:14.329829",
     "exception": false,
     "start_time": "2020-11-21T18:49:13.916018",
     "status": "completed"
    },
    "tags": []
   },
   "outputs": [
    {
     "data": {
      "text/plain": [
       "(array([0, 1]), [Text(0, 0, 'not renewed'), Text(1, 0, 'renewed')])"
      ]
     },
     "execution_count": 7,
     "metadata": {},
     "output_type": "execute_result"
    },
    {
     "data": {
      "image/png": "[encoded data removed]",
      "text/plain": [
       "<Figure size 720x504 with 1 Axes>"
      ]
     },
     "metadata": {},
     "output_type": "display_data"
    }
   ],
   "source": [
    "# Create barchart for 'ContractRenewal'\n",
    "sns.set_style(\"darkgrid\")\n",
    "df_plot = df.groupby(['churn', 'contract renewal']).size().reset_index().pivot(columns = 'churn', index = 'contract renewal', values = 0)\n",
    "df_plot.plot(kind = 'bar', stacked = True, figsize = (10, 7))\n",
    "plt.xticks(rotation = 0)"
   ]
  },
  {
   "cell_type": "code",
   "execution_count": 7,
   "metadata": {
    "execution": {
     "iopub.execute_input": "2020-11-21T18:49:14.542441Z",
     "iopub.status.busy": "2020-11-21T18:49:14.541266Z",
     "iopub.status.idle": "2020-11-21T18:49:14.756319Z",
     "shell.execute_reply": "2020-11-21T18:49:14.755508Z"
    },
    "papermill": {
     "duration": 0.274187,
     "end_time": "2020-11-21T18:49:14.756463",
     "exception": false,
     "start_time": "2020-11-21T18:49:14.482276",
     "status": "completed"
    },
    "tags": []
   },
   "outputs": [
    {
     "data": {
      "text/plain": [
       "(array([0, 1]), <a list of 2 Text major ticklabel objects>)"
      ]
     },
     "execution_count": 7,
     "metadata": {},
     "output_type": "execute_result"
    },
    {
     "data": {
      "image/png": "[encoded data removed]",
      "text/plain": [
       "<Figure size 720x504 with 1 Axes>"
      ]
     },
     "metadata": {},
     "output_type": "display_data"
    }
   ],
   "source": [
    "# Create barchart for 'DataPlan'\n",
    "df_plot = df.groupby(['churn', 'data plan']).size().reset_index().pivot(columns = 'churn', index = 'data plan', values = 0)\n",
    "df_plot.plot(kind = 'bar', stacked = True, figsize = (10, 7))\n",
    "plt.xticks(rotation = 0)"
   ]
  },
  {
   "cell_type": "markdown",
   "metadata": {
    "papermill": {
     "duration": 0.05254,
     "end_time": "2020-11-21T18:49:14.861582",
     "exception": false,
     "start_time": "2020-11-21T18:49:14.809042",
     "status": "completed"
    },
    "tags": []
   },
   "source": [
    "* Only around 27% of customers have a data plan in this dataset.\n",
    "* There is no significant difference in the proportion of cancelled contracts in these two groups.\n",
    "* In the group with no data plan around 16% and in the other group 11% left the company."
   ]
  },
  {
   "cell_type": "markdown",
   "metadata": {
    "papermill": {
     "duration": 0.060374,
     "end_time": "2020-11-21T18:49:20.761383",
     "exception": false,
     "start_time": "2020-11-21T18:49:20.701009",
     "status": "completed"
    },
    "tags": []
   },
   "source": [
    "## Relationship: 'DataUsage' & 'MonthlyCharge' & 'Churn'"
   ]
  },
  {
   "cell_type": "code",
   "execution_count": 18,
   "metadata": {
    "execution": {
     "iopub.execute_input": "2020-11-21T18:49:20.894601Z",
     "iopub.status.busy": "2020-11-21T18:49:20.893790Z",
     "iopub.status.idle": "2020-11-21T18:49:21.453508Z",
     "shell.execute_reply": "2020-11-21T18:49:21.454134Z"
    },
    "papermill": {
     "duration": 0.630748,
     "end_time": "2020-11-21T18:49:21.454327",
     "exception": false,
     "start_time": "2020-11-21T18:49:20.823579",
     "status": "completed"
    },
    "tags": []
   },
   "outputs": [
    {
     "data": {
      "text/plain": [
       "<AxesSubplot:xlabel='DataUsage', ylabel='MonthlyCharge'>"
      ]
     },
     "execution_count": 18,
     "metadata": {},
     "output_type": "execute_result"
    },
    {
     "data": {
      "image/png": "[encoded data removed]",
      "text/plain": [
       "<Figure size 864x576 with 1 Axes>"
      ]
     },
     "metadata": {},
     "output_type": "display_data"
    }
   ],
   "source": [
    "# Create scatterplot\n",
    "plt.figure(figsize = (12, 8))\n",
    "sns.scatterplot(data = df, x = 'DataUsage', y = 'MonthlyCharge', hue = 'churn')"
   ]
  },
  {
   "cell_type": "markdown",
   "metadata": {
    "papermill": {
     "duration": 0.074406,
     "end_time": "2020-11-21T18:49:21.620668",
     "exception": false,
     "start_time": "2020-11-21T18:49:21.546262",
     "status": "completed"
    },
    "tags": []
   },
   "source": [
    "As predicted, there is a positive correlation between data usage and monthly charge. What we can also observe is that most customers with low to no data usage but a high monthly charge left the company."
   ]
  },
  {
   "cell_type": "markdown",
   "metadata": {
    "papermill": {
     "duration": 0.06502,
     "end_time": "2020-11-21T18:49:21.750738",
     "exception": false,
     "start_time": "2020-11-21T18:49:21.685718",
     "status": "completed"
    },
    "tags": []
   },
   "source": [
    "## Relationship: 'Daymins' & 'MonthlyCharge' & 'Churn' \n"
   ]
  },
  {
   "cell_type": "code",
   "execution_count": 20,
   "metadata": {
    "execution": {
     "iopub.execute_input": "2020-11-21T18:49:21.911883Z",
     "iopub.status.busy": "2020-11-21T18:49:21.910899Z",
     "iopub.status.idle": "2020-11-21T18:49:22.475887Z",
     "shell.execute_reply": "2020-11-21T18:49:22.476638Z"
    },
    "papermill": {
     "duration": 0.661388,
     "end_time": "2020-11-21T18:49:22.476831",
     "exception": false,
     "start_time": "2020-11-21T18:49:21.815443",
     "status": "completed"
    },
    "tags": []
   },
   "outputs": [
    {
     "data": {
      "text/plain": [
       "<AxesSubplot:xlabel='DayMins', ylabel='MonthlyCharge'>"
      ]
     },
     "execution_count": 20,
     "metadata": {},
     "output_type": "execute_result"
    },
    {
     "data": {
      "image/png": "[encoded data removed]",
      "text/plain": [
       "<Figure size 864x576 with 1 Axes>"
      ]
     },
     "metadata": {},
     "output_type": "display_data"
    }
   ],
   "source": [
    "# Create scatterplot\n",
    "plt.figure(figsize = (12, 8))\n",
    "sns.scatterplot(data = df, x = 'DayMins', y = 'MonthlyCharge', hue = 'churn')"
   ]
  },
  {
   "cell_type": "markdown",
   "metadata": {
    "papermill": {
     "duration": 0.070458,
     "end_time": "2020-11-21T18:49:22.765082",
     "exception": false,
     "start_time": "2020-11-21T18:49:22.694624",
     "status": "completed"
    },
    "tags": []
   },
   "source": [
    "## Conclusion\n",
    "\n",
    "After this analysis we now more about relationships of the variables and what kind of customers the company. We will now use Machine-Learning-Models to have a precise classification of the costumers in there leaving-behavior."
   ]
  },
  {
   "cell_type": "markdown",
   "metadata": {
    "papermill": {
     "duration": 0.073158,
     "end_time": "2020-11-21T18:49:22.909996",
     "exception": false,
     "start_time": "2020-11-21T18:49:22.836838",
     "status": "completed"
    },
    "tags": []
   },
   "source": [
    "# Data Preparation\n",
    "\n",
    "**Define target variable, features and split the data into train and test**"
   ]
  },
  {
   "cell_type": "code",
   "execution_count": 21,
   "metadata": {
    "execution": {
     "iopub.execute_input": "2020-11-21T18:49:23.072479Z",
     "iopub.status.busy": "2020-11-21T18:49:23.071666Z",
     "iopub.status.idle": "2020-11-21T18:49:23.084136Z",
     "shell.execute_reply": "2020-11-21T18:49:23.083483Z"
    },
    "papermill": {
     "duration": 0.100504,
     "end_time": "2020-11-21T18:49:23.084263",
     "exception": false,
     "start_time": "2020-11-21T18:49:22.983759",
     "status": "completed"
    },
    "tags": []
   },
   "outputs": [
    {
     "name": "stdout",
     "output_type": "stream",
     "text": [
      "(2666, 10)\n",
      "(2666,)\n",
      "(667, 10)\n",
      "(667,)\n"
     ]
    }
   ],
   "source": [
    "# Define target and features\n",
    "y = df['Churn']\n",
    "X = df.iloc[:, 1:11]\n",
    "\n",
    "# Stratified train-test-split\n",
    "X_train, X_test, y_train, y_test = train_test_split(X, y, test_size = 0.2, random_state = 0, stratify = y)\n",
    "\n",
    "print(X_train.shape)\n",
    "print(y_train.shape)\n",
    "print(X_test.shape)\n",
    "print(y_test.shape)"
   ]
  },
  {
   "cell_type": "markdown",
   "metadata": {
    "papermill": {
     "duration": 0.072833,
     "end_time": "2020-11-21T18:49:23.232898",
     "exception": false,
     "start_time": "2020-11-21T18:49:23.160065",
     "status": "completed"
    },
    "tags": []
   },
   "source": [
    "**Resampling**"
   ]
  },
  {
   "cell_type": "code",
   "execution_count": 22,
   "metadata": {
    "execution": {
     "iopub.execute_input": "2020-11-21T18:49:23.404509Z",
     "iopub.status.busy": "2020-11-21T18:49:23.400380Z",
     "iopub.status.idle": "2020-11-21T18:49:23.426878Z",
     "shell.execute_reply": "2020-11-21T18:49:23.426065Z"
    },
    "papermill": {
     "duration": 0.116813,
     "end_time": "2020-11-21T18:49:23.427008",
     "exception": false,
     "start_time": "2020-11-21T18:49:23.310195",
     "status": "completed"
    },
    "tags": []
   },
   "outputs": [
    {
     "name": "stdout",
     "output_type": "stream",
     "text": [
      "Downsampled Dataset Class Counts:\n",
      "1    386\n",
      "0    386\n",
      "Name: Churn, dtype: int64\n",
      "\n",
      "Upsampled Dataset Class Counts:\n",
      "1    2280\n",
      "0    2280\n",
      "Name: Churn, dtype: int64\n"
     ]
    }
   ],
   "source": [
    "# Merge X_train and y_train\n",
    "df_train = X_train.merge(y_train.to_frame(), left_index = True, right_index = True)\n",
    "\n",
    "# Indicies of each class' observations\n",
    "df_train0 = df_train[df_train['Churn'] == 0]\n",
    "df_train1 = df_train[df_train['Churn'] == 1]\n",
    "\n",
    "# Number of observations in each class\n",
    "n_0 = len(df_train0)\n",
    "n_1 = len(df_train1)\n",
    "\n",
    "# Downsampling\n",
    "df_train0_ds = resample(df_train0, replace = False, n_samples = n_1, random_state = 123)\n",
    "df_train_ds = pd.concat([df_train0_ds, df_train1])\n",
    "print(\"Downsampled Dataset Class Counts:\", df_train_ds.Churn.value_counts(), sep = \"\\n\")\n",
    "\n",
    "# Upsampling\n",
    "df_train1_us = resample(df_train1, replace = True, n_samples = n_0, random_state = 123)\n",
    "df_train_us = pd.concat([df_train1_us, df_train0])\n",
    "print(\"\\nUpsampled Dataset Class Counts:\", df_train_us.Churn.value_counts(), sep = \"\\n\")\n",
    "\n",
    "# Seperate y and X\n",
    "y_train_ds = df_train_ds['Churn']\n",
    "X_train_ds = df_train_ds.iloc[:, 0:10]\n",
    "\n",
    "y_train_us = df_train_us['Churn']\n",
    "X_train_us = df_train_us.iloc[:, 0:10]"
   ]
  },
  {
   "cell_type": "markdown",
   "metadata": {
    "papermill": {
     "duration": 0.073536,
     "end_time": "2020-11-21T18:49:23.575025",
     "exception": false,
     "start_time": "2020-11-21T18:49:23.501489",
     "status": "completed"
    },
    "tags": []
   },
   "source": [
    "# ML-Models\n",
    "\n",
    "We will define a function which lets us use and compare multiple models without having to write the code multiple times. As performence metric we will use the normal accuracy score and \"Area under the ROC-Curve\" as it better represents the performance in a classification problem."
   ]
  },
  {
   "cell_type": "code",
   "execution_count": 34,
   "metadata": {
    "execution": {
     "iopub.execute_input": "2020-11-21T18:49:23.782053Z",
     "iopub.status.busy": "2020-11-21T18:49:23.781154Z",
     "iopub.status.idle": "2020-11-21T18:49:23.785174Z",
     "shell.execute_reply": "2020-11-21T18:49:23.784389Z"
    },
    "papermill": {
     "duration": 0.13772,
     "end_time": "2020-11-21T18:49:23.785328",
     "exception": false,
     "start_time": "2020-11-21T18:49:23.647608",
     "status": "completed"
    },
    "tags": []
   },
   "outputs": [],
   "source": [
    "# Set up function which uses an algo as input and returns the accuracy score and AUROC for the input data\n",
    "def alg_fit(alg, X_train, y_train):\n",
    "    \n",
    "    # Model selection\n",
    "    mod = alg.fit(X_train, y_train)\n",
    "    \n",
    "    # Prediction\n",
    "    y_pred = mod.predict(X_test)\n",
    "    \n",
    "    # Accuracy Score\n",
    "    acc_score = accuracy_score(y_test, y_pred)\n",
    "    print(\"Accuracy Score: \", acc_score)\n",
    "    \n",
    "    # AUROC\n",
    "    prob_y = mod.predict_proba(X_test)\n",
    "    prob_y = [p[1] for p in prob_y]\n",
    "    auroc_score = roc_auc_score(y_test, prob_y)\n",
    "    print(\"AUROC Score:\", auroc_score)"
   ]
  },
  {
   "cell_type": "code",
   "execution_count": 35,
   "metadata": {
    "execution": {
     "iopub.execute_input": "2020-11-21T18:49:23.943349Z",
     "iopub.status.busy": "2020-11-21T18:49:23.942225Z",
     "iopub.status.idle": "2020-11-21T18:49:23.946164Z",
     "shell.execute_reply": "2020-11-21T18:49:23.945248Z"
    },
    "papermill": {
     "duration": 0.087824,
     "end_time": "2020-11-21T18:49:23.946350",
     "exception": false,
     "start_time": "2020-11-21T18:49:23.858526",
     "status": "completed"
    },
    "tags": []
   },
   "outputs": [],
   "source": [
    "# Set up function which uses function alg_fit and returns a comparison of the accuracy score and AUROC for imbalanced, downsampled and upsampled data\n",
    "def compare_results(alg):\n",
    "    # Unsampled Dataset\n",
    "    print(\"IMBALANCED CLASSES\")\n",
    "    alg_fit(alg, X_train, y_train)\n",
    "\n",
    "    # Downsampled majority class\n",
    "    print(\"\\nDOWNSAMPLED MAJORITY CLASS\")\n",
    "    alg_fit(alg, X_train_ds, y_train_ds)\n",
    "\n",
    "    # Upsampled minority class\n",
    "    print(\"\\nUPSAMPLED MINORITY CLASS\")\n",
    "    alg_fit(alg, X_train_us, y_train_us)"
   ]
  },
  {
   "cell_type": "markdown",
   "metadata": {
    "papermill": {
     "duration": 0.08135,
     "end_time": "2020-11-21T18:49:24.106429",
     "exception": false,
     "start_time": "2020-11-21T18:49:24.025079",
     "status": "completed"
    },
    "tags": []
   },
   "source": [
    "## Logistic Regression \n",
    "\n",
    "Let's have a look at the first model and how it performs on the data with imbalanced classes, downsampled majority class and upsampled minority class."
   ]
  },
  {
   "cell_type": "code",
   "execution_count": 25,
   "metadata": {
    "execution": {
     "iopub.execute_input": "2020-11-21T18:49:24.276785Z",
     "iopub.status.busy": "2020-11-21T18:49:24.275238Z",
     "iopub.status.idle": "2020-11-21T18:49:25.030729Z",
     "shell.execute_reply": "2020-11-21T18:49:25.025809Z"
    },
    "papermill": {
     "duration": 0.849037,
     "end_time": "2020-11-21T18:49:25.030962",
     "exception": false,
     "start_time": "2020-11-21T18:49:24.181925",
     "status": "completed"
    },
    "tags": []
   },
   "outputs": [
    {
     "name": "stdout",
     "output_type": "stream",
     "text": [
      "IMBALANCED CLASSES\n",
      "Accuracy Score:  0.8650674662668666\n",
      "AUROC Score: 0.8316332067281605\n",
      "\n",
      "DOWNSAMPLED MAJORITY CLASS\n",
      "Accuracy Score:  0.7586206896551724\n",
      "AUROC Score: 0.8280159160788569\n",
      "\n",
      "UPSAMPLED MINORITY CLASS\n",
      "Accuracy Score:  0.7646176911544228\n",
      "AUROC Score: 0.8348887683125339\n"
     ]
    }
   ],
   "source": [
    "# Logistic Regression\n",
    "compare_results(LogisticRegression(max_iter = 1000))"
   ]
  },
  {
   "cell_type": "markdown",
   "metadata": {
    "papermill": {
     "duration": 0.081527,
     "end_time": "2020-11-21T18:49:25.195516",
     "exception": false,
     "start_time": "2020-11-21T18:49:25.113989",
     "status": "completed"
    },
    "tags": []
   },
   "source": [
    "It is ok that the accuracy metric is lower for the resampled data as it is expected. We will focus more on the AUROC-score as it is a better precision metric for our classification models. Here, upsampling the minority class yields the best result."
   ]
  },
  {
   "cell_type": "markdown",
   "metadata": {
    "papermill": {
     "duration": 0.080166,
     "end_time": "2020-11-21T18:49:25.359493",
     "exception": false,
     "start_time": "2020-11-21T18:49:25.279327",
     "status": "completed"
    },
    "tags": []
   },
   "source": [
    "## Gaussian Naive Bayes"
   ]
  },
  {
   "cell_type": "code",
   "execution_count": 26,
   "metadata": {
    "execution": {
     "iopub.execute_input": "2020-11-21T18:49:25.536036Z",
     "iopub.status.busy": "2020-11-21T18:49:25.535127Z",
     "iopub.status.idle": "2020-11-21T18:49:25.581635Z",
     "shell.execute_reply": "2020-11-21T18:49:25.580076Z"
    },
    "papermill": {
     "duration": 0.131878,
     "end_time": "2020-11-21T18:49:25.582239",
     "exception": false,
     "start_time": "2020-11-21T18:49:25.450361",
     "status": "completed"
    },
    "tags": []
   },
   "outputs": [
    {
     "name": "stdout",
     "output_type": "stream",
     "text": [
      "IMBALANCED CLASSES\n",
      "Accuracy Score:  0.8500749625187406\n",
      "AUROC Score: 0.8722915536263338\n",
      "\n",
      "DOWNSAMPLED MAJORITY CLASS\n",
      "Accuracy Score:  0.8530734632683659\n",
      "AUROC Score: 0.8689817326822209\n",
      "\n",
      "UPSAMPLED MINORITY CLASS\n",
      "Accuracy Score:  0.8515742128935532\n",
      "AUROC Score: 0.8682040151926207\n"
     ]
    }
   ],
   "source": [
    "# Gaussian Naive Bayes\n",
    "compare_results(GaussianNB())"
   ]
  },
  {
   "cell_type": "markdown",
   "metadata": {
    "papermill": {
     "duration": 0.077774,
     "end_time": "2020-11-21T18:49:25.739293",
     "exception": false,
     "start_time": "2020-11-21T18:49:25.661519",
     "status": "completed"
    },
    "tags": []
   },
   "source": [
    "Here, the AUROC-score for the resampled data is even lower than with imbalanced classes. But still the precision is higher than for Logistic Regression."
   ]
  },
  {
   "cell_type": "markdown",
   "metadata": {
    "papermill": {
     "duration": 0.078135,
     "end_time": "2020-11-21T18:49:25.896492",
     "exception": false,
     "start_time": "2020-11-21T18:49:25.818357",
     "status": "completed"
    },
    "tags": []
   },
   "source": [
    "## K-nearest Neighbors "
   ]
  },
  {
   "cell_type": "code",
   "execution_count": 27,
   "metadata": {
    "execution": {
     "iopub.execute_input": "2020-11-21T18:49:26.078066Z",
     "iopub.status.busy": "2020-11-21T18:49:26.077110Z",
     "iopub.status.idle": "2020-11-21T18:49:26.265619Z",
     "shell.execute_reply": "2020-11-21T18:49:26.264794Z"
    },
    "papermill": {
     "duration": 0.286929,
     "end_time": "2020-11-21T18:49:26.265808",
     "exception": false,
     "start_time": "2020-11-21T18:49:25.978879",
     "status": "completed"
    },
    "tags": []
   },
   "outputs": [
    {
     "name": "stdout",
     "output_type": "stream",
     "text": [
      "IMBALANCED CLASSES\n",
      "Accuracy Score:  0.8500749625187406\n",
      "AUROC Score: 0.6817055525411467\n",
      "\n",
      "DOWNSAMPLED MAJORITY CLASS\n",
      "Accuracy Score:  0.5982008995502249\n",
      "AUROC Score: 0.6437059142702115\n",
      "\n",
      "UPSAMPLED MINORITY CLASS\n",
      "Accuracy Score:  0.7406296851574213\n",
      "AUROC Score: 0.6618918430095859\n"
     ]
    }
   ],
   "source": [
    "# K-nearest Neighbors\n",
    "compare_results(KNeighborsClassifier(n_neighbors = 3))"
   ]
  },
  {
   "cell_type": "markdown",
   "metadata": {
    "papermill": {
     "duration": 0.088911,
     "end_time": "2020-11-21T18:49:26.449240",
     "exception": false,
     "start_time": "2020-11-21T18:49:26.360329",
     "status": "completed"
    },
    "tags": []
   },
   "source": [
    "So the k-nearest neighbor didn't perform that good."
   ]
  },
  {
   "cell_type": "markdown",
   "metadata": {
    "papermill": {
     "duration": 0.081987,
     "end_time": "2020-11-21T18:49:26.615951",
     "exception": false,
     "start_time": "2020-11-21T18:49:26.533964",
     "status": "completed"
    },
    "tags": []
   },
   "source": [
    "## Decision Tree "
   ]
  },
  {
   "cell_type": "code",
   "execution_count": 28,
   "metadata": {
    "execution": {
     "iopub.execute_input": "2020-11-21T18:49:26.788394Z",
     "iopub.status.busy": "2020-11-21T18:49:26.787406Z",
     "iopub.status.idle": "2020-11-21T18:49:26.846600Z",
     "shell.execute_reply": "2020-11-21T18:49:26.845603Z"
    },
    "papermill": {
     "duration": 0.146909,
     "end_time": "2020-11-21T18:49:26.846797",
     "exception": false,
     "start_time": "2020-11-21T18:49:26.699888",
     "status": "completed"
    },
    "tags": []
   },
   "outputs": [
    {
     "name": "stdout",
     "output_type": "stream",
     "text": [
      "IMBALANCED CLASSES\n",
      "Accuracy Score:  0.9400299850074962\n",
      "AUROC Score: 0.9005606800506422\n",
      "\n",
      "DOWNSAMPLED MAJORITY CLASS\n",
      "Accuracy Score:  0.8710644677661169\n",
      "AUROC Score: 0.9047657804304575\n",
      "\n",
      "UPSAMPLED MINORITY CLASS\n",
      "Accuracy Score:  0.896551724137931\n",
      "AUROC Score: 0.9173177789835413\n"
     ]
    }
   ],
   "source": [
    "# Decision Tree Classifier\n",
    "compare_results(DecisionTreeClassifier(random_state = 0, max_depth = 4))"
   ]
  },
  {
   "cell_type": "markdown",
   "metadata": {
    "papermill": {
     "duration": 0.079355,
     "end_time": "2020-11-21T18:49:27.004807",
     "exception": false,
     "start_time": "2020-11-21T18:49:26.925452",
     "status": "completed"
    },
    "tags": []
   },
   "source": [
    "We have a new accuracy high with the decision tree. "
   ]
  },
  {
   "cell_type": "markdown",
   "metadata": {
    "papermill": {
     "duration": 0.07914,
     "end_time": "2020-11-21T18:49:27.165564",
     "exception": false,
     "start_time": "2020-11-21T18:49:27.086424",
     "status": "completed"
    },
    "tags": []
   },
   "source": [
    "## Random Forest "
   ]
  },
  {
   "cell_type": "code",
   "execution_count": 29,
   "metadata": {
    "execution": {
     "iopub.execute_input": "2020-11-21T18:49:27.333379Z",
     "iopub.status.busy": "2020-11-21T18:49:27.332574Z",
     "iopub.status.idle": "2020-11-21T18:49:28.056120Z",
     "shell.execute_reply": "2020-11-21T18:49:28.055428Z"
    },
    "papermill": {
     "duration": 0.810027,
     "end_time": "2020-11-21T18:49:28.056277",
     "exception": false,
     "start_time": "2020-11-21T18:49:27.246250",
     "status": "completed"
    },
    "tags": []
   },
   "outputs": [
    {
     "name": "stdout",
     "output_type": "stream",
     "text": [
      "IMBALANCED CLASSES\n",
      "Accuracy Score:  0.9385307346326837\n",
      "AUROC Score: 0.9336227165852776\n",
      "\n",
      "DOWNSAMPLED MAJORITY CLASS\n",
      "Accuracy Score:  0.8845577211394303\n",
      "AUROC Score: 0.9193344185205282\n",
      "\n",
      "UPSAMPLED MINORITY CLASS\n",
      "Accuracy Score:  0.9115442278860569\n",
      "AUROC Score: 0.9338126243443661\n"
     ]
    }
   ],
   "source": [
    "# Random Forest Classifier\n",
    "rfc = RandomForestClassifier(random_state = 0, n_estimators = 50, max_depth = 5)\n",
    "compare_results(rfc)"
   ]
  },
  {
   "cell_type": "markdown",
   "metadata": {
    "papermill": {
     "duration": 0.080298,
     "end_time": "2020-11-21T18:49:28.217728",
     "exception": false,
     "start_time": "2020-11-21T18:49:28.137430",
     "status": "completed"
    },
    "tags": []
   },
   "source": [
    "As forseeable Random Forest performed even better than a single decision tree."
   ]
  },
  {
   "cell_type": "markdown",
   "metadata": {
    "papermill": {
     "duration": 0.0768,
     "end_time": "2020-11-21T18:49:28.375244",
     "exception": false,
     "start_time": "2020-11-21T18:49:28.298444",
     "status": "completed"
    },
    "tags": []
   },
   "source": [
    "## Gradient Boosting "
   ]
  },
  {
   "cell_type": "code",
   "execution_count": 30,
   "metadata": {
    "execution": {
     "iopub.execute_input": "2020-11-21T18:49:28.543739Z",
     "iopub.status.busy": "2020-11-21T18:49:28.542853Z",
     "iopub.status.idle": "2020-11-21T18:49:29.370259Z",
     "shell.execute_reply": "2020-11-21T18:49:29.369218Z"
    },
    "papermill": {
     "duration": 0.915604,
     "end_time": "2020-11-21T18:49:29.370487",
     "exception": false,
     "start_time": "2020-11-21T18:49:28.454883",
     "status": "completed"
    },
    "tags": []
   },
   "outputs": [
    {
     "name": "stdout",
     "output_type": "stream",
     "text": [
      "IMBALANCED CLASSES\n",
      "Accuracy Score:  0.9505247376311844\n",
      "AUROC Score: 0.9269578585639358\n",
      "\n",
      "DOWNSAMPLED MAJORITY CLASS\n",
      "Accuracy Score:  0.8740629685157422\n",
      "AUROC Score: 0.9241273286308553\n",
      "\n",
      "UPSAMPLED MINORITY CLASS\n",
      "Accuracy Score:  0.8950524737631185\n",
      "AUROC Score: 0.928368601917164\n"
     ]
    }
   ],
   "source": [
    "# Gradient Boosting Classifier\n",
    "gbc = GradientBoostingClassifier(random_state = 0, n_estimators = 50, max_depth = 3, \n",
    "                                 min_samples_leaf = 5)\n",
    "compare_results(gbc)"
   ]
  },
  {
   "cell_type": "markdown",
   "metadata": {
    "papermill": {
     "duration": 0.078922,
     "end_time": "2020-11-21T18:49:29.530138",
     "exception": false,
     "start_time": "2020-11-21T18:49:29.451216",
     "status": "completed"
    },
    "tags": []
   },
   "source": [
    "Besides the increase in the AUROC-Score with downsampled majority class nothing has increased with Gradient-Boosting."
   ]
  },
  {
   "cell_type": "markdown",
   "metadata": {
    "papermill": {
     "duration": 0.078232,
     "end_time": "2020-11-21T18:49:29.689597",
     "exception": false,
     "start_time": "2020-11-21T18:49:29.611365",
     "status": "completed"
    },
    "tags": []
   },
   "source": [
    "## XG-Boost "
   ]
  },
  {
   "cell_type": "code",
   "execution_count": 41,
   "metadata": {
    "execution": {
     "iopub.execute_input": "2020-11-21T18:49:29.857536Z",
     "iopub.status.busy": "2020-11-21T18:49:29.856343Z",
     "iopub.status.idle": "2020-11-21T18:49:36.414795Z",
     "shell.execute_reply": "2020-11-21T18:49:36.415573Z"
    },
    "papermill": {
     "duration": 6.64701,
     "end_time": "2020-11-21T18:49:36.415770",
     "exception": false,
     "start_time": "2020-11-21T18:49:29.768760",
     "status": "completed"
    },
    "tags": []
   },
   "outputs": [
    {
     "name": "stdout",
     "output_type": "stream",
     "text": [
      "IMBALANCED CLASSES\n",
      "[20:17:13] WARNING: /Users/runner/miniforge3/conda-bld/xgboost_1607604592557/work/src/learner.cc:1061: Starting in XGBoost 1.3.0, the default evaluation metric used with the objective 'binary:logistic' was changed from 'error' to 'logloss'. Explicitly set eval_metric if you'd like to restore the old behavior.\n",
      "Accuracy Score:  0.9490254872563718\n",
      "AUROC Score: 0.9193886778802677\n",
      "\n",
      "DOWNSAMPLED MAJORITY CLASS\n",
      "[20:17:16] WARNING: /Users/runner/miniforge3/conda-bld/xgboost_1607604592557/work/src/learner.cc:1061: Starting in XGBoost 1.3.0, the default evaluation metric used with the objective 'binary:logistic' was changed from 'error' to 'logloss'. Explicitly set eval_metric if you'd like to restore the old behavior.\n",
      "Accuracy Score:  0.8680659670164917\n",
      "AUROC Score: 0.9134382347621631\n",
      "\n",
      "UPSAMPLED MINORITY CLASS\n",
      "[20:17:17] WARNING: /Users/runner/miniforge3/conda-bld/xgboost_1607604592557/work/src/learner.cc:1061: Starting in XGBoost 1.3.0, the default evaluation metric used with the objective 'binary:logistic' was changed from 'error' to 'logloss'. Explicitly set eval_metric if you'd like to restore the old behavior.\n",
      "Accuracy Score:  0.9475262368815592\n",
      "AUROC Score: 0.9098932899258455\n"
     ]
    }
   ],
   "source": [
    "# XG-Boost Classifier\n",
    "xgb = XGBClassifier(learning_rate = 0.15,\n",
    "                    n_estimators = 1000,\n",
    "                    max_depth = 20,\n",
    "                    min_child_weight = 1,\n",
    "                    gamma = 0.5,\n",
    "                    subsample = 0.8,\n",
    "                    colsample_bytree = 0.8,\n",
    "                    reg_alpha = 0.03,\n",
    "                    objective = 'binary:logistic',\n",
    "                    nthread = 4,\n",
    "                    scale_pos_weight = 1,\n",
    "                    use_label_encoder = False,\n",
    "                    seed = 27)\n",
    "compare_results(xgb)"
   ]
  },
  {
   "cell_type": "markdown",
   "metadata": {
    "papermill": {
     "duration": 0.099933,
     "end_time": "2020-11-21T18:49:36.613995",
     "exception": false,
     "start_time": "2020-11-21T18:49:36.514062",
     "status": "completed"
    },
    "tags": []
   },
   "source": [
    "The accuracy is higher but the AUROC-score of the Random-Forest Classifier is still the highest."
   ]
  },
  {
   "cell_type": "markdown",
   "metadata": {
    "papermill": {
     "duration": 0.080952,
     "end_time": "2020-11-21T18:49:36.776614",
     "exception": false,
     "start_time": "2020-11-21T18:49:36.695662",
     "status": "completed"
    },
    "tags": []
   },
   "source": [
    "## Confusion Matrix, Recall and Precision\n",
    "\n",
    "We will have a look at the confusion matrices of the last three models (Random Forest, Gradient Boosting & XGBoost) as they performed the best. Additionally, we are going to focus on the models with upsampled minority class as for all it yielded the highest AUROC Score."
   ]
  },
  {
   "cell_type": "code",
   "execution_count": 44,
   "metadata": {
    "execution": {
     "iopub.execute_input": "2020-11-21T18:49:36.953852Z",
     "iopub.status.busy": "2020-11-21T18:49:36.953031Z",
     "iopub.status.idle": "2020-11-21T18:49:41.851592Z",
     "shell.execute_reply": "2020-11-21T18:49:41.853007Z"
    },
    "papermill": {
     "duration": 4.995067,
     "end_time": "2020-11-21T18:49:41.853229",
     "exception": false,
     "start_time": "2020-11-21T18:49:36.858162",
     "status": "completed"
    },
    "tags": []
   },
   "outputs": [
    {
     "name": "stdout",
     "output_type": "stream",
     "text": [
      "\n",
      " RandomForestClassifier Confusion Matrix:\n",
      " [[522  48]\n",
      " [ 11  86]] \n",
      "Precision:  0.9157894736842105 \n",
      "Recall:  0.9793621013133208 \n",
      "F1-Score:  0.9465095194922937\n",
      "\n",
      " GradientBoostingClassifier Confusion Matrix:\n",
      " [[516  54]\n",
      " [ 16  81]] \n",
      "Precision:  0.9052631578947369 \n",
      "Recall:  0.9699248120300752 \n",
      "F1-Score:  0.9364791288566244\n",
      "[20:26:35] WARNING: /Users/runner/miniforge3/conda-bld/xgboost_1607604592557/work/src/learner.cc:1061: Starting in XGBoost 1.3.0, the default evaluation metric used with the objective 'binary:logistic' was changed from 'error' to 'logloss'. Explicitly set eval_metric if you'd like to restore the old behavior.\n",
      "\n",
      " XGBoost Confusion Matrix:\n",
      " [[559  11]\n",
      " [ 24  73]] \n",
      "Precision:  0.980701754385965 \n",
      "Recall:  0.9588336192109777 \n",
      "F1-Score:  0.9696444058976583\n"
     ]
    }
   ],
   "source": [
    "# List of best algos with parameter tuned\n",
    "best_algs = [rfc, gbc, xgb]\n",
    "names = [\"RandomForestClassifier\", \"GradientBoostingClassifier\", \"XGBoost\"]\n",
    "\n",
    "# Return confusion matrices (absolute), precision and recall\n",
    "j = 0\n",
    "for i in best_algs:\n",
    "    mod = i.fit(X_train_us, y_train_us)\n",
    "    y_pred = mod.predict(X_test)\n",
    "    con_mat = confusion_matrix(y_test, y_pred)\n",
    "    prec = (con_mat[0][0])/(con_mat[0][0] + con_mat[0][1])\n",
    "    rec = (con_mat[0][0])/(con_mat[0][0] + con_mat[1][0])\n",
    "    f1_score = 2*prec*rec/(prec+rec)\n",
    "    print(\"\\n\", names[j], \"Confusion Matrix:\\n\", con_mat, \"\\nPrecision: \", prec, \"\\nRecall: \", rec, \"\\nF1-Score: \", f1_score)\n",
    "    j = j + 1"
   ]
  },
  {
   "cell_type": "markdown",
   "metadata": {
    "papermill": {
     "duration": 0.106929,
     "end_time": "2020-11-21T18:49:42.062410",
     "exception": false,
     "start_time": "2020-11-21T18:49:41.955481",
     "status": "completed"
    },
    "tags": []
   },
   "source": [
    "## Final Result\n",
    "\n",
    "Our Random-Forest Model actually had the highest AUROC-Score and Recall. But the Accuracy and Precision of our XG-Boost Classifier outperformed the Random-Forest Model."
   ]
  },
  {
   "cell_type": "markdown",
   "metadata": {
    "papermill": {
     "duration": 0.081394,
     "end_time": "2020-11-21T18:49:42.226431",
     "exception": false,
     "start_time": "2020-11-21T18:49:42.145037",
     "status": "completed"
    },
    "tags": []
   },
   "source": [
    "## Feature Importance\n",
    "\n",
    "We will use the XG-Boost Classifier to detect the most important features."
   ]
  },
  {
   "cell_type": "code",
   "execution_count": 39,
   "metadata": {
    "execution": {
     "iopub.execute_input": "2020-11-21T18:49:42.405181Z",
     "iopub.status.busy": "2020-11-21T18:49:42.404105Z",
     "iopub.status.idle": "2020-11-21T18:49:42.542088Z",
     "shell.execute_reply": "2020-11-21T18:49:42.541338Z"
    },
    "papermill": {
     "duration": 0.234021,
     "end_time": "2020-11-21T18:49:42.542228",
     "exception": false,
     "start_time": "2020-11-21T18:49:42.308207",
     "status": "completed"
    },
    "tags": []
   },
   "outputs": [
    {
     "data": {
      "text/html": [
       "<div>\n",
       "<style scoped>\n",
       "    .dataframe tbody tr th:only-of-type {\n",
       "        vertical-align: middle;\n",
       "    }\n",
       "\n",
       "    .dataframe tbody tr th {\n",
       "        vertical-align: top;\n",
       "    }\n",
       "\n",
       "    .dataframe thead th {\n",
       "        text-align: right;\n",
       "    }\n",
       "</style>\n",
       "<table border=\"1\" class=\"dataframe\">\n",
       "  <thead>\n",
       "    <tr style=\"text-align: right;\">\n",
       "      <th></th>\n",
       "      <th>feature importance</th>\n",
       "    </tr>\n",
       "  </thead>\n",
       "  <tbody>\n",
       "    <tr>\n",
       "      <th>ContractRenewal</th>\n",
       "      <td>0.337636</td>\n",
       "    </tr>\n",
       "    <tr>\n",
       "      <th>DataPlan</th>\n",
       "      <td>0.161336</td>\n",
       "    </tr>\n",
       "    <tr>\n",
       "      <th>CustServCalls</th>\n",
       "      <td>0.125763</td>\n",
       "    </tr>\n",
       "    <tr>\n",
       "      <th>DataUsage</th>\n",
       "      <td>0.090486</td>\n",
       "    </tr>\n",
       "    <tr>\n",
       "      <th>DayMins</th>\n",
       "      <td>0.077939</td>\n",
       "    </tr>\n",
       "    <tr>\n",
       "      <th>MonthlyCharge</th>\n",
       "      <td>0.060132</td>\n",
       "    </tr>\n",
       "    <tr>\n",
       "      <th>RoamMins</th>\n",
       "      <td>0.044779</td>\n",
       "    </tr>\n",
       "    <tr>\n",
       "      <th>DayCalls</th>\n",
       "      <td>0.041619</td>\n",
       "    </tr>\n",
       "    <tr>\n",
       "      <th>AccountWeeks</th>\n",
       "      <td>0.031150</td>\n",
       "    </tr>\n",
       "    <tr>\n",
       "      <th>OverageFee</th>\n",
       "      <td>0.029160</td>\n",
       "    </tr>\n",
       "  </tbody>\n",
       "</table>\n",
       "</div>"
      ],
      "text/plain": [
       "                 feature importance\n",
       "ContractRenewal            0.337636\n",
       "DataPlan                   0.161336\n",
       "CustServCalls              0.125763\n",
       "DataUsage                  0.090486\n",
       "DayMins                    0.077939\n",
       "MonthlyCharge              0.060132\n",
       "RoamMins                   0.044779\n",
       "DayCalls                   0.041619\n",
       "AccountWeeks               0.031150\n",
       "OverageFee                 0.029160"
      ]
     },
     "execution_count": 39,
     "metadata": {},
     "output_type": "execute_result"
    }
   ],
   "source": [
    "# Feature importance\n",
    "df_feature_importance = pd.DataFrame(xgb.feature_importances_, index = X_train_us.columns, \n",
    "                                     columns = ['feature importance']).sort_values('feature importance', \n",
    "                                                                                   ascending = False)\n",
    "df_feature_importance"
   ]
  }
 ],
 "metadata": {
  "kernelspec": {
   "display_name": "Python 3",
   "language": "python",
   "name": "python3"
  },
  "language_info": {
   "codemirror_mode": {
    "name": "ipython",
    "version": 3
   },
   "file_extension": ".py",
   "mimetype": "text/x-python",
   "name": "python",
   "nbconvert_exporter": "python",
   "pygments_lexer": "ipython3",
   "version": "3.7.4"
  },
  "papermill": {
   "duration": 39.926122,
   "end_time": "2020-11-21T18:49:42.742962",
   "environment_variables": {},
   "exception": null,
   "input_path": "__notebook__.ipynb",
   "output_path": "__notebook__.ipynb",
   "parameters": {},
   "start_time": "2020-11-21T18:49:02.816840",
   "version": "2.1.0"
  }
 },
 "nbformat": 4,
 "nbformat_minor": 4
}
